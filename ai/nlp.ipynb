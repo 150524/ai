{
 "cells": [
  {
   "cell_type": "code",
   "execution_count": 3,
   "id": "9664e442-be9b-4f82-8687-6a8ca7b55d01",
   "metadata": {},
   "outputs": [
    {
     "name": "stdout",
     "output_type": "stream",
     "text": [
      "Sentence: 'I love this product, it's amazing!'\n",
      "Sentiment: Positive\n",
      "\n",
      "Sentence: 'The service was terrible, I would never recommend this to anyone.'\n",
      "Sentiment: Negative\n",
      "\n",
      "Sentence: 'The weather today is okay, not too bad.'\n",
      "Sentiment: Neutral\n",
      "\n",
      "Sentence: 'I feel indifferent about this movie, neither good nor bad.'\n",
      "Sentiment: Neutral\n",
      "\n"
     ]
    }
   ],
   "source": [
    "def analyze_sentiment(sentence):\n",
    "    positive_words = [\"love\", \"like\", \"great\", \"amazing\"]\n",
    "    negative_words = [\"hate\", \"dislike\", \"terrible\", \"awful\"]\n",
    "    \n",
    "    positive_count = sum(sentence.lower().count(word) for word in positive_words)\n",
    "    negative_count = sum(sentence.lower().count(word) for word in negative_words)\n",
    "    \n",
    "    if positive_count > negative_count:\n",
    "        return \"Positive\"\n",
    "    elif positive_count < negative_count:\n",
    "        return \"Negative\"\n",
    "    else:\n",
    "        return \"Neutral\"\n",
    "\n",
    "def main():\n",
    "    sentences = [\n",
    "        \"I love this product, it's amazing!\",\n",
    "        \"The service was terrible, I would never recommend this to anyone.\",\n",
    "        \"The weather today is okay, not too bad.\",\n",
    "        \"I feel indifferent about this movie, neither good nor bad.\"\n",
    "    ]\n",
    "\n",
    "    for sentence in sentences:\n",
    "        sentiment = analyze_sentiment(sentence)\n",
    "        print(f\"Sentence: '{sentence}'\\nSentiment: {sentiment}\\n\")\n",
    "\n",
    "if __name__ == \"__main__\":\n",
    "    main()\n"
   ]
  },
  {
   "cell_type": "code",
   "execution_count": null,
   "id": "d0cf2488-eb1d-45df-b503-542fbb823741",
   "metadata": {},
   "outputs": [],
   "source": []
  }
 ],
 "metadata": {
  "kernelspec": {
   "display_name": "Python 3 (ipykernel)",
   "language": "python",
   "name": "python3"
  },
  "language_info": {
   "codemirror_mode": {
    "name": "ipython",
    "version": 3
   },
   "file_extension": ".py",
   "mimetype": "text/x-python",
   "name": "python",
   "nbconvert_exporter": "python",
   "pygments_lexer": "ipython3",
   "version": "3.12.3"
  }
 },
 "nbformat": 4,
 "nbformat_minor": 5
}
