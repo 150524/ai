{
 "cells": [
  {
   "cell_type": "code",
   "execution_count": 4,
   "id": "a0186bae-92b1-4ffb-8620-07f7966d8c71",
   "metadata": {},
   "outputs": [
    {
     "name": "stdout",
     "output_type": "stream",
     "text": [
      "Goal node not found.\n"
     ]
    },
    {
     "data": {
      "text/plain": [
       "False"
      ]
     },
     "execution_count": 4,
     "metadata": {},
     "output_type": "execute_result"
    }
   ],
   "source": [
    "def best_first_search(graph, start, goal):\n",
    "    visited = set()\n",
    "    priority_queue = [(0, start)]  # Priority queue of tuples (cost, node)\n",
    "    \n",
    "    while priority_queue:\n",
    "        cost, node = priority_queue.pop(0)  # Get the node with the lowest cost\n",
    "        if node == goal:\n",
    "            print(\"Goal node found!\")\n",
    "            return True\n",
    "        if node not in visited:\n",
    "            visited.add(node)\n",
    "            neighbors = graph.get(node, [])\n",
    "            for neighbor, neighbor_cost in neighbors:\n",
    "                if neighbor not in visited:\n",
    "                    priority_queue.append((neighbor_cost, neighbor))\n",
    "                    priority_queue.sort()  # Sort based on cost\n",
    "    print(\"Goal node not found.\")\n",
    "    return False\n",
    "\n",
    "# Example graph represented as an adjacency list\n",
    "graph = {\n",
    "    'A': [('B', 5), ('C', 7)],\n",
    "    'B': [('D', 3), ('E', 4)],\n",
    "    'C': [('F', 6)],\n",
    "    'D': [('G', 9)],\n",
    "    'E': [],\n",
    "    'F': [],\n",
    "    'G': []\n",
    "}\n",
    "\n",
    "start_node = 'Z'\n",
    "goal_node = 'G'\n",
    "\n",
    "best_first_search(graph, start_node, goal_node)\n"
   ]
  },
  {
   "cell_type": "code",
   "execution_count": null,
   "id": "3de9e025-859b-4436-bbf3-8b312649b363",
   "metadata": {},
   "outputs": [],
   "source": []
  }
 ],
 "metadata": {
  "kernelspec": {
   "display_name": "Python 3 (ipykernel)",
   "language": "python",
   "name": "python3"
  },
  "language_info": {
   "codemirror_mode": {
    "name": "ipython",
    "version": 3
   },
   "file_extension": ".py",
   "mimetype": "text/x-python",
   "name": "python",
   "nbconvert_exporter": "python",
   "pygments_lexer": "ipython3",
   "version": "3.12.3"
  }
 },
 "nbformat": 4,
 "nbformat_minor": 5
}
