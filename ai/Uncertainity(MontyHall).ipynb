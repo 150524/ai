{
 "cells": [
  {
   "cell_type": "code",
   "execution_count": 2,
   "id": "69c3709e-bbe8-4747-a3cc-3b777c4d4b30",
   "metadata": {},
   "outputs": [
    {
     "name": "stdout",
     "output_type": "stream",
     "text": [
      "Stick win rate: 32.6 %\n",
      "Switch win rate: 67.4 %\n"
     ]
    }
   ],
   "source": [
    "import random\n",
    "\n",
    "def monty_hall(simulations):\n",
    "    wins_if_stick = 0\n",
    "    wins_if_switch = 0\n",
    "    \n",
    "    for _ in range(simulations):\n",
    "        # Randomly place the car behind one of the three doors\n",
    "        car_door = random.randint(1, 3)\n",
    "        # Contestant's initial choice (also random)\n",
    "        contestant_choice = random.randint(1, 3)\n",
    "        # Monty reveals a goat door (which is neither the car door nor the contestant's choice)\n",
    "        available_doors = {1, 2, 3} - {car_door, contestant_choice}\n",
    "        monty_reveals = available_doors.pop()\n",
    "        # If the contestant sticks to their original choice\n",
    "        if contestant_choice == car_door:\n",
    "            wins_if_stick += 1\n",
    "        # If the contestant switches to the other remaining door\n",
    "        else:\n",
    "            wins_if_switch += 1\n",
    "    \n",
    "    return wins_if_stick, wins_if_switch\n",
    "\n",
    "# Number of simulations to run\n",
    "simulations = 10000\n",
    "stick_wins, switch_wins = monty_hall(simulations)\n",
    "print(\"Stick win rate:\", stick_wins / simulations * 100, \"%\")\n",
    "print(\"Switch win rate:\", switch_wins / simulations * 100, \"%\")\n"
   ]
  },
  {
   "cell_type": "code",
   "execution_count": null,
   "id": "94f90bda-259a-46b3-868d-8bee47b1a34b",
   "metadata": {},
   "outputs": [],
   "source": []
  }
 ],
 "metadata": {
  "kernelspec": {
   "display_name": "Python 3 (ipykernel)",
   "language": "python",
   "name": "python3"
  },
  "language_info": {
   "codemirror_mode": {
    "name": "ipython",
    "version": 3
   },
   "file_extension": ".py",
   "mimetype": "text/x-python",
   "name": "python",
   "nbconvert_exporter": "python",
   "pygments_lexer": "ipython3",
   "version": "3.12.3"
  }
 },
 "nbformat": 4,
 "nbformat_minor": 5
}
