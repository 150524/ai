{
 "cells": [
  {
   "cell_type": "code",
   "execution_count": null,
   "id": "639b462a-58ba-4357-a88e-0b2d49dadab5",
   "metadata": {},
   "outputs": [],
   "source": []
  }
 ],
 "metadata": {
  "kernelspec": {
   "display_name": "",
   "name": ""
  },
  "language_info": {
   "name": ""
  }
 },
 "nbformat": 4,
 "nbformat_minor": 5
}
