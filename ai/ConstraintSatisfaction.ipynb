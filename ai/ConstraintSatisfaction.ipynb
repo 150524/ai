{
 "cells": [
  {
   "cell_type": "code",
   "execution_count": 1,
   "id": "34aa13b7-8e19-4e3c-8442-b449ab75375e",
   "metadata": {},
   "outputs": [
    {
     "name": "stdout",
     "output_type": "stream",
     "text": [
      "03185 - 0368 == 2817\n"
     ]
    }
   ],
   "source": [
    "import re\n",
    "\n",
    "def solve(q):\n",
    "    try:\n",
    "        n = next(i for i in q if i.isalpha()) \n",
    "    except StopIteration:\n",
    "        return q if eval(re.sub(r'(^|[^0-9])0+([1-9]+)', r'\\1\\2', q)) else False\n",
    "    else:\n",
    "        for i in (str(i) for i in range(10) if str(i) not in q):\n",
    "            r = solve(q.replace(n, str(i)))  \n",
    "            if r:\n",
    "                return r\n",
    "        return False\n",
    "\n",
    "if __name__ == \"__main__\":\n",
    "    query = \"COUNT - COIN == SNUB\"\n",
    "    r = solve(query)\n",
    "    print(r) if r else print(\"No solution found.\")\n"
   ]
  },
  {
   "cell_type": "code",
   "execution_count": null,
   "id": "418edb02-2fe8-4753-81e6-81e5e3dee8a5",
   "metadata": {},
   "outputs": [],
   "source": []
  }
 ],
 "metadata": {
  "kernelspec": {
   "display_name": "Python 3 (ipykernel)",
   "language": "python",
   "name": "python3"
  },
  "language_info": {
   "codemirror_mode": {
    "name": "ipython",
    "version": 3
   },
   "file_extension": ".py",
   "mimetype": "text/x-python",
   "name": "python",
   "nbconvert_exporter": "python",
   "pygments_lexer": "ipython3",
   "version": "3.12.3"
  }
 },
 "nbformat": 4,
 "nbformat_minor": 5
}
