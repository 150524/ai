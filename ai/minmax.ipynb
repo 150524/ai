{
 "cells": [
  {
   "cell_type": "code",
   "execution_count": 1,
   "id": "bdc2f147-62b1-48e8-b41e-ed7187d2072e",
   "metadata": {},
   "outputs": [
    {
     "name": "stdout",
     "output_type": "stream",
     "text": [
      "The optimal value is:12\n"
     ]
    }
   ],
   "source": [
    "import math\n",
    "\n",
    "def minimax(curDepth, nodeIndex, maxTurn, scores, targetDepth):\n",
    "    # Base case: targetDepth reached\n",
    "    if curDepth == targetDepth:\n",
    "        return scores[nodeIndex]\n",
    "    if maxTurn:\n",
    "        return max(minimax(curDepth + 1, nodeIndex * 2, False, scores, targetDepth),\n",
    "                   minimax(curDepth + 1, nodeIndex * 2 + 1, False, scores, targetDepth))\n",
    "    else:\n",
    "        return min(minimax(curDepth + 1, nodeIndex * 2, True, scores, targetDepth),\n",
    "                   minimax(curDepth + 1, nodeIndex * 2 + 1, True, scores, targetDepth))\n",
    "\n",
    "# Driver code\n",
    "scores = [3, 5, 2, 9, 12, 5, 23, 23]\n",
    "treeDepth = math.log(len(scores), 2)\n",
    "print(\"The optimal value is:\", end=\"\")\n",
    "print(minimax(0, 0, True, scores, treeDepth))\n"
   ]
  },
  {
   "cell_type": "code",
   "execution_count": null,
   "id": "a6ae99b5-ab71-4de4-99f7-04c8767a648c",
   "metadata": {},
   "outputs": [],
   "source": []
  }
 ],
 "metadata": {
  "kernelspec": {
   "display_name": "Python 3 (ipykernel)",
   "language": "python",
   "name": "python3"
  },
  "language_info": {
   "codemirror_mode": {
    "name": "ipython",
    "version": 3
   },
   "file_extension": ".py",
   "mimetype": "text/x-python",
   "name": "python",
   "nbconvert_exporter": "python",
   "pygments_lexer": "ipython3",
   "version": "3.12.3"
  }
 },
 "nbformat": 4,
 "nbformat_minor": 5
}
