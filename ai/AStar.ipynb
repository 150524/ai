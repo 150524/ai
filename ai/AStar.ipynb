{
 "cells": [
  {
   "cell_type": "code",
   "execution_count": 1,
   "id": "5a9b899f-b8fd-4f0a-a0d6-ef8d5fd65b53",
   "metadata": {},
   "outputs": [
    {
     "name": "stdout",
     "output_type": "stream",
     "text": [
      "Shortest path: [(0, 0), (1, 0), (2, 0), (2, 1), (2, 2), (2, 3), (2, 4), (3, 4), (4, 4)]\n"
     ]
    }
   ],
   "source": [
    "import heapq\n",
    "\n",
    "class Node:\n",
    "    def __init__(self, x, y):\n",
    "        self.x = x\n",
    "        self.y = y\n",
    "        self.g = float('inf')  # initial cost from start node\n",
    "        self.h = float('inf')  # heuristic cost to goal node\n",
    "        self.f = float('inf')  # total cost\n",
    "        self.parent = None\n",
    "\n",
    "    def __lt__(self, other):\n",
    "        return self.f < other.f\n",
    "\n",
    "def heuristic(node, goal):\n",
    "    return abs(node.x - goal.x) + abs(node.y - goal.y)\n",
    "\n",
    "def is_valid(x, y, grid):\n",
    "    return 0 <= x < len(grid) and 0 <= y < len(grid[0]) and grid[x][y] != 1\n",
    "\n",
    "def get_neighbors(node, grid):\n",
    "    neighbors = []\n",
    "    deltas = [(1, 0), (-1, 0), (0, 1), (0, -1)]\n",
    "    for dx, dy in deltas:\n",
    "        nx, ny = node.x + dx, node.y + dy\n",
    "        if is_valid(nx, ny, grid):\n",
    "            neighbors.append(Node(nx, ny))\n",
    "    return neighbors\n",
    "\n",
    "def reconstruct_path(current):\n",
    "    path = []\n",
    "    while current is not None:\n",
    "        path.append((current.x, current.y))\n",
    "        current = current.parent\n",
    "    return path[::-1]\n",
    "\n",
    "def astar(grid, start, goal):\n",
    "    open_set = []\n",
    "    heapq.heappush(open_set, start)\n",
    "    start.g = 0\n",
    "    start.h = heuristic(start, goal)\n",
    "    start.f = start.g + start.h\n",
    "\n",
    "    while open_set:\n",
    "        current = heapq.heappop(open_set)\n",
    "\n",
    "        if current.x == goal.x and current.y == goal.y:\n",
    "            return reconstruct_path(current)\n",
    "\n",
    "        for neighbor in get_neighbors(current, grid):\n",
    "            tentative_g = current.g + 1  # assuming each step costs 1\n",
    "            if tentative_g < neighbor.g:\n",
    "                neighbor.parent = current\n",
    "                neighbor.g = tentative_g\n",
    "                neighbor.h = heuristic(neighbor, goal)\n",
    "                neighbor.f = neighbor.g + neighbor.h\n",
    "                if neighbor not in open_set:\n",
    "                    heapq.heappush(open_set, neighbor)\n",
    "\n",
    "    return None  # No path found\n",
    "\n",
    "# Example usage:\n",
    "grid = [\n",
    "    [0, 0, 0, 0, 0],\n",
    "    [0, 1, 1, 0, 0],\n",
    "    [0, 0, 0, 0, 0],\n",
    "    [0, 1, 1, 1, 0],\n",
    "    [0, 0, 0, 0, 0]\n",
    "]\n",
    "\n",
    "start = Node(0, 0)\n",
    "goal = Node(4, 4)\n",
    "\n",
    "path = astar(grid, start, goal)\n",
    "if path:\n",
    "    print(\"Shortest path:\", path)\n",
    "else:\n",
    "    print(\"No path found\")\n"
   ]
  },
  {
   "cell_type": "code",
   "execution_count": null,
   "id": "66cf19ee-e610-4cd0-9a8d-313b96795de0",
   "metadata": {},
   "outputs": [],
   "source": []
  }
 ],
 "metadata": {
  "kernelspec": {
   "display_name": "Python 3 (ipykernel)",
   "language": "python",
   "name": "python3"
  },
  "language_info": {
   "codemirror_mode": {
    "name": "ipython",
    "version": 3
   },
   "file_extension": ".py",
   "mimetype": "text/x-python",
   "name": "python",
   "nbconvert_exporter": "python",
   "pygments_lexer": "ipython3",
   "version": "3.12.3"
  }
 },
 "nbformat": 4,
 "nbformat_minor": 5
}
