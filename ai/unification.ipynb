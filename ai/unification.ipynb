{
 "cells": [
  {
   "cell_type": "code",
   "execution_count": 1,
   "id": "55d20c8c-f552-4b46-84fb-0b6471a2aa03",
   "metadata": {},
   "outputs": [
    {
     "name": "stdout",
     "output_type": "stream",
     "text": [
      "Unification: {'a': 'X', 'b': 'Y'}\n"
     ]
    }
   ],
   "source": [
    "def is_variable(term):\n",
    "    return isinstance(term, str) and term.isalpha() and term.islower()\n",
    "\n",
    "def unify(term1, term2, substitution=None):\n",
    "    if substitution is None:\n",
    "        substitution = {}\n",
    "    if term1 == term2:\n",
    "        return substitution\n",
    "    elif is_variable(term1):\n",
    "        return unify_variable(term1, term2, substitution)\n",
    "    elif is_variable(term2):\n",
    "        return unify_variable(term2, term1, substitution)\n",
    "    elif isinstance(term1, list) and isinstance(term2, list) and len(term1) == len(term2):\n",
    "        # Unify each element in the lists\n",
    "        for t1, t2 in zip(term1, term2):\n",
    "            substitution = unify(t1, t2, substitution)\n",
    "            if substitution is None:\n",
    "                return None\n",
    "        return substitution\n",
    "    else:\n",
    "        return None  # Terms cannot be unified\n",
    "\n",
    "def unify_variable(var, value, substitution):\n",
    "    if var in substitution:\n",
    "        return unify(substitution[var], value, substitution)\n",
    "    elif is_variable(value) and value in substitution:\n",
    "        return unify(var, substitution[value], substitution)\n",
    "    elif var == value:\n",
    "        return substitution\n",
    "    else:\n",
    "        substitution[var] = value\n",
    "        return substitution\n",
    "\n",
    "# Example usage\n",
    "term1 = ['f', 'X', 'g', 'Y']  # A term with variables X and Y\n",
    "term2 = ['f', 'a', 'g', 'b']  # A term with constants\n",
    "# Perform unification\n",
    "substitution = unify(term1, term2)\n",
    "print(\"Unification:\", substitution)\n"
   ]
  },
  {
   "cell_type": "code",
   "execution_count": null,
   "id": "9dce4341-9a68-4ff5-83df-7cf213a1a1ef",
   "metadata": {},
   "outputs": [],
   "source": []
  }
 ],
 "metadata": {
  "kernelspec": {
   "display_name": "Python 3 (ipykernel)",
   "language": "python",
   "name": "python3"
  },
  "language_info": {
   "codemirror_mode": {
    "name": "ipython",
    "version": 3
   },
   "file_extension": ".py",
   "mimetype": "text/x-python",
   "name": "python",
   "nbconvert_exporter": "python",
   "pygments_lexer": "ipython3",
   "version": "3.12.3"
  }
 },
 "nbformat": 4,
 "nbformat_minor": 5
}
