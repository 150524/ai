{
 "cells": [
  {
   "cell_type": "code",
   "execution_count": null,
   "id": "77392190-ba71-408c-a2df-96ac1f0ee4a8",
   "metadata": {},
   "outputs": [],
   "source": []
  }
 ],
 "metadata": {
  "kernelspec": {
   "display_name": "",
   "name": ""
  },
  "language_info": {
   "name": ""
  }
 },
 "nbformat": 4,
 "nbformat_minor": 5
}
