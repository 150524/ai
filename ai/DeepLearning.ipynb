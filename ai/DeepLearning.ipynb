{
 "cells": [
  {
   "cell_type": "code",
   "execution_count": 1,
   "id": "b3cf560d-a789-4b00-b6d9-6f193647b500",
   "metadata": {},
   "outputs": [
    {
     "name": "stdout",
     "output_type": "stream",
     "text": [
      "Predictions after training:\n",
      "Input: [0, 0], Prediction: 0.5\n",
      "Input: [0, 1], Prediction: 0.4979080002388524\n",
      "Input: [1, 0], Prediction: 0.4979080002388524\n",
      "Input: [1, 1], Prediction: 0.4958160737208989\n"
     ]
    }
   ],
   "source": [
    "def sigmoid(x):\n",
    "    return 1 / (1 + pow(2.71828, -x))\n",
    "\n",
    "def sigmoid_derivative(x):\n",
    "    return x * (1 - x)\n",
    "\n",
    "class NeuralNetwork:\n",
    "    def __init__(self):\n",
    "        self.weights = [0.5, 0.5, 0.5]\n",
    "    \n",
    "    def forward(self, inputs):\n",
    "        weighted_sum = 0\n",
    "        for i in range(len(inputs)):\n",
    "            weighted_sum += inputs[i] * self.weights[i]\n",
    "        return sigmoid(weighted_sum)\n",
    "    \n",
    "    def backward(self, inputs, target, learning_rate):\n",
    "        output = self.forward(inputs)\n",
    "        error = target - output\n",
    "        adjustment = error * sigmoid_derivative(output)\n",
    "        for i in range(len(inputs)):\n",
    "            self.weights[i] += adjustment * inputs[i] * learning_rate\n",
    "\n",
    "training_data = [\n",
    "    ([0, 0], 0),\n",
    "    ([0, 1], 1),\n",
    "    ([1, 0], 1),\n",
    "    ([1, 1], 0)\n",
    "]\n",
    "\n",
    "neural_network = NeuralNetwork()\n",
    "\n",
    "epochs = 10000\n",
    "learning_rate = 0.1\n",
    "for epoch in range(epochs):\n",
    "    for inputs, target in training_data:\n",
    "        neural_network.backward(inputs, target, learning_rate)\n",
    "\n",
    "print(\"Predictions after training:\")\n",
    "for inputs, _ in training_data:\n",
    "    prediction = neural_network.forward(inputs)\n",
    "    print(f\"Input: {inputs}, Prediction: {prediction}\")\n"
   ]
  },
  {
   "cell_type": "code",
   "execution_count": null,
   "id": "67d011ca-4c8f-40be-97c3-a07e4bdab91b",
   "metadata": {},
   "outputs": [],
   "source": []
  }
 ],
 "metadata": {
  "kernelspec": {
   "display_name": "Python 3 (ipykernel)",
   "language": "python",
   "name": "python3"
  },
  "language_info": {
   "codemirror_mode": {
    "name": "ipython",
    "version": 3
   },
   "file_extension": ".py",
   "mimetype": "text/x-python",
   "name": "python",
   "nbconvert_exporter": "python",
   "pygments_lexer": "ipython3",
   "version": "3.12.3"
  }
 },
 "nbformat": 4,
 "nbformat_minor": 5
}
